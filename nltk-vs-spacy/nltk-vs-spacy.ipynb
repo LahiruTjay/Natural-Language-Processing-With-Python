{
 "cells": [
  {
   "cell_type": "markdown",
   "metadata": {},
   "source": [
    "# NLTK vs spaCy"
   ]
  },
  {
   "cell_type": "code",
   "execution_count": 1,
   "metadata": {},
   "outputs": [],
   "source": [
    "import time"
   ]
  },
  {
   "cell_type": "markdown",
   "metadata": {},
   "source": [
    "## 01 Tokenization (Sentence)"
   ]
  },
  {
   "cell_type": "code",
   "execution_count": 2,
   "metadata": {},
   "outputs": [],
   "source": [
    "file = open(\"data/sample_text.txt\", \"r\", encoding=\"utf8\")\n",
    "text = file.read()"
   ]
  },
  {
   "cell_type": "markdown",
   "metadata": {},
   "source": [
    "### NLTK"
   ]
  },
  {
   "cell_type": "code",
   "execution_count": 3,
   "metadata": {},
   "outputs": [],
   "source": [
    "from nltk import sent_tokenize, word_tokenize"
   ]
  },
  {
   "cell_type": "code",
   "execution_count": 4,
   "metadata": {},
   "outputs": [
    {
     "name": "stdout",
     "output_type": "stream",
     "text": [
      "0.18829414690239676 seconds\n"
     ]
    }
   ],
   "source": [
    "start_time = time.clock()\n",
    "\n",
    "sent_tokens = sent_tokenize(text)\n",
    "sentences = [sent for sent in sent_tokens]\n",
    "\n",
    "print(time.clock() - start_time, \"seconds\")"
   ]
  },
  {
   "cell_type": "markdown",
   "metadata": {},
   "source": [
    "### spaCy"
   ]
  },
  {
   "cell_type": "code",
   "execution_count": 5,
   "metadata": {},
   "outputs": [],
   "source": [
    "import spacy\n",
    "nlp = spacy.load('en', disable=['parser', 'tagger', 'ner'])\n",
    "nlp.add_pipe(nlp.create_pipe('sentencizer'))"
   ]
  },
  {
   "cell_type": "code",
   "execution_count": 6,
   "metadata": {},
   "outputs": [
    {
     "name": "stdout",
     "output_type": "stream",
     "text": [
      "0.18238507173808838 seconds\n"
     ]
    }
   ],
   "source": [
    "start_time = time.clock()\n",
    "\n",
    "doc = nlp(text)\n",
    "sentences = [sent for sent in doc.sents]\n",
    "\n",
    "print(time.clock() - start_time, \"seconds\")"
   ]
  },
  {
   "cell_type": "markdown",
   "metadata": {},
   "source": [
    "## 02 Tokenization (Words)"
   ]
  },
  {
   "cell_type": "code",
   "execution_count": 7,
   "metadata": {},
   "outputs": [
    {
     "name": "stdout",
     "output_type": "stream",
     "text": [
      "0.009530297373843588 seconds\n"
     ]
    }
   ],
   "source": [
    "start_time = time.clock()\n",
    "\n",
    "word_tokens = word_tokenize(text)\n",
    "words = [word_token for word_token in word_tokens]\n",
    "\n",
    "print(time.clock() - start_time, \"seconds\")"
   ]
  },
  {
   "cell_type": "code",
   "execution_count": 8,
   "metadata": {},
   "outputs": [
    {
     "name": "stdout",
     "output_type": "stream",
     "text": [
      "0.020141658723327183 seconds\n"
     ]
    }
   ],
   "source": [
    "start_time = time.clock()\n",
    "\n",
    "doc = nlp(text)\n",
    "words = [token.text for token in doc]\n",
    "\n",
    "print(time.clock() - start_time, \"seconds\")"
   ]
  },
  {
   "cell_type": "markdown",
   "metadata": {},
   "source": [
    "## 03 POS Tagging"
   ]
  },
  {
   "cell_type": "code",
   "execution_count": 9,
   "metadata": {},
   "outputs": [],
   "source": [
    "from nltk import pos_tag"
   ]
  },
  {
   "cell_type": "markdown",
   "metadata": {},
   "source": [
    "### NLTK"
   ]
  },
  {
   "cell_type": "code",
   "execution_count": 10,
   "metadata": {
    "scrolled": true
   },
   "outputs": [
    {
     "name": "stdout",
     "output_type": "stream",
     "text": [
      "0.2900788004979393 seconds\n",
      "[('\\ufeffThe', 'JJ'), ('performance', 'NN'), ('of', 'IN'), ('these', 'DT'), ('simple', 'JJ'), ('machine', 'NN'), ('learning', 'VBG'), ('algorithms', 'JJ'), ('depends', 'NNS'), ('heavily', 'RB'), ('on', 'IN'), ('the', 'DT'), ('representation', 'NN'), ('of', 'IN'), ('the', 'DT'), ('data', 'NN'), ('they', 'PRP'), ('are', 'VBP'), ('given', 'VBN'), ('.', '.'), ('For', 'IN'), ('example', 'NN'), (',', ','), ('when', 'WRB'), ('logistic', 'JJ'), ('regression', 'NN'), ('is', 'VBZ'), ('used', 'VBN'), ('to', 'TO'), ('recommend', 'VB'), ('cesarean', 'JJ'), ('delivery', 'NN'), (',', ','), ('the', 'DT'), ('AI', 'NNP'), ('system', 'NN'), ('does', 'VBZ'), ('not', 'RB'), ('examinethe', 'VB'), ('patient', 'NN'), ('directly', 'RB'), ('.', '.'), ('Instead', 'RB'), (',', ','), ('the', 'DT'), ('doctor', 'NN'), ('tells', 'VBZ'), ('the', 'DT'), ('system', 'NN'), ('several', 'JJ'), ('pieces', 'NNS'), ('of', 'IN'), ('relevant', 'JJ'), ('information', 'NN'), (',', ','), ('such', 'JJ'), ('as', 'IN'), ('the', 'DT'), ('presence', 'NN'), ('or', 'CC'), ('absence', 'NN'), ('of', 'IN'), ('a', 'DT'), ('uterine', 'JJ'), ('scar', 'NN'), ('.', '.'), ('Each', 'DT'), ('piece', 'NN'), ('of', 'IN'), ('information', 'NN'), ('included', 'VBN'), ('in', 'IN'), ('the', 'DT'), ('representation', 'NN'), ('of', 'IN'), ('the', 'DT'), ('patient', 'NN'), ('is', 'VBZ'), ('known', 'VBN'), ('as', 'IN'), ('afeature', 'NN'), ('.', '.'), ('Logistic', 'JJ'), ('regression', 'NN'), ('learns', 'VBZ'), ('how', 'WRB'), ('each', 'DT'), ('of', 'IN'), ('these', 'DT'), ('features', 'NNS'), ('of', 'IN'), ('the', 'DT'), ('patient', 'NN'), ('correlates', 'VBZ'), ('with', 'IN'), ('various', 'JJ'), ('outcomes', 'NNS'), ('.', '.'), ('However', 'RB'), (',', ','), ('it', 'PRP'), ('can', 'MD'), ('not', 'RB'), ('inﬂuence', 'VB'), ('how', 'WRB'), ('features', 'NNS'), ('are', 'VBP'), ('deﬁned', 'VBN'), ('in', 'IN'), ('anyway', 'RB'), ('.', '.'), ('If', 'IN'), ('logistic', 'JJ'), ('regression', 'NN'), ('were', 'VBD'), ('given', 'VBN'), ('an', 'DT'), ('MRI', 'NNP'), ('scan', 'NN'), ('of', 'IN'), ('the', 'DT'), ('patient', 'NN'), (',', ','), ('rather', 'RB'), ('thanthe', 'JJ'), ('doctor', 'NN'), ('’', 'NNP'), ('s', 'VBZ'), ('formalized', 'VBN'), ('report', 'NN'), (',', ','), ('it', 'PRP'), ('would', 'MD'), ('not', 'RB'), ('be', 'VB'), ('able', 'JJ'), ('to', 'TO'), ('make', 'VB'), ('useful', 'JJ'), ('predictions', 'NNS'), ('.', '.'), ('Individual', 'JJ'), ('pixels', 'NNS'), ('in', 'IN'), ('an', 'DT'), ('MRI', 'NNP'), ('scan', 'NN'), ('have', 'VBP'), ('negligible', 'JJ'), ('correlation', 'NN'), ('with', 'IN'), ('any', 'DT'), ('complications', 'NNS'), ('that', 'WDT'), ('might', 'MD'), ('occur', 'VB'), ('during', 'IN'), ('delivery.This', 'JJ'), ('dependence', 'NN'), ('on', 'IN'), ('representations', 'NNS'), ('is', 'VBZ'), ('a', 'DT'), ('general', 'JJ'), ('phenomenon', 'NN'), ('that', 'IN'), ('appears', 'VBZ'), ('throughout', 'IN'), ('computer', 'NN'), ('science', 'NN'), ('and', 'CC'), ('even', 'RB'), ('daily', 'JJ'), ('life', 'NN'), ('.', '.'), ('In', 'IN'), ('computer', 'NN'), ('science', 'NN'), (',', ','), ('operations', 'NNS'), ('such', 'JJ'), ('as', 'IN'), ('searching', 'VBG'), ('a', 'DT'), ('collection', 'NN'), ('of', 'IN'), ('data', 'NNS'), ('can', 'MD'), ('proceed', 'VB'), ('exponentially', 'RB'), ('faster', 'RBR'), ('if', 'IN'), ('the', 'DT'), ('collection', 'NN'), ('is', 'VBZ'), ('structured', 'VBN'), ('and', 'CC'), ('indexed', 'VBN'), ('intelligently', 'RB'), ('.', '.'), ('People', 'NNS'), ('can', 'MD'), ('easily', 'RB'), ('perform', 'VB'), ('arithmetic', 'JJ'), ('on', 'IN'), ('Arabic', 'NNP'), ('numerals', 'NNS'), ('but', 'CC'), ('ﬁnd', 'NNP'), ('arithmetic', 'JJ'), ('on', 'IN'), ('Roman', 'NNP'), ('numerals', 'NNS'), ('much', 'RB'), ('more', 'JJR'), ('time', 'NN'), ('consuming', 'NN'), ('.', '.'), ('It', 'PRP'), ('is', 'VBZ'), ('not', 'RB'), ('surprising', 'JJ'), ('that', 'IN'), ('the', 'DT'), ('choice', 'NN'), ('of', 'IN'), ('representation', 'NN'), ('has', 'VBZ'), ('an', 'DT'), ('enormous', 'JJ'), ('eﬀect', 'NN'), ('on', 'IN'), ('the', 'DT'), ('performance', 'NN'), ('of', 'IN'), ('machine', 'NN'), ('learning', 'VBG'), ('algorithms', 'NNS'), ('.', '.'), ('For', 'IN'), ('a', 'DT'), ('simple', 'JJ'), ('visual', 'JJ'), ('example', 'NN'), (',', ','), ('see', 'VBP'), ('ﬁgure', 'JJ'), ('1.1', 'CD'), ('.', '.'), ('Many', 'JJ'), ('artiﬁcial', 'JJ'), ('intelligence', 'NN'), ('tasks', 'NNS'), ('can', 'MD'), ('be', 'VB'), ('solved', 'VBN'), ('by', 'IN'), ('designing', 'VBG'), ('the', 'DT'), ('right', 'NN'), ('set', 'NN'), ('offeatures', 'NNS'), ('to', 'TO'), ('extract', 'VB'), ('for', 'IN'), ('that', 'DT'), ('task', 'NN'), (',', ','), ('then', 'RB'), ('providing', 'VBG'), ('these', 'DT'), ('features', 'NNS'), ('to', 'TO'), ('a', 'DT'), ('simple', 'JJ'), ('machine', 'NN'), ('learning', 'VBG'), ('algorithm', 'NN'), ('.', '.'), ('For', 'IN'), ('example', 'NN'), (',', ','), ('a', 'DT'), ('useful', 'JJ'), ('feature', 'NN'), ('for', 'IN'), ('speaker', 'NN'), ('identiﬁcation', 'NN'), ('from', 'IN'), ('sound', 'NN'), ('is', 'VBZ'), ('an', 'DT'), ('estimate', 'NN'), ('of', 'IN'), ('the', 'DT'), ('size', 'NN'), ('of', 'IN'), ('the', 'DT'), ('speaker', 'NN'), ('’', 'NNP'), ('s', 'RB'), ('vocal', 'JJ'), ('tract', 'NN'), ('.', '.'), ('This', 'DT'), ('feature', 'NN'), ('gives', 'VBZ'), ('astrong', 'RB'), ('clue', 'JJ'), ('as', 'IN'), ('to', 'TO'), ('whether', 'IN'), ('the', 'DT'), ('speaker', 'NN'), ('is', 'VBZ'), ('a', 'DT'), ('man', 'NN'), (',', ','), ('woman', 'NN'), (',', ','), ('or', 'CC'), ('child', 'NN'), ('.', '.')]\n"
     ]
    }
   ],
   "source": [
    "start_time = time.clock()\n",
    "\n",
    "word_tokens = word_tokenize(text)\n",
    "pos_tag_sent = pos_tag(word_tokens)\n",
    "\n",
    "print(time.clock() - start_time, \"seconds\")\n",
    "print(pos_tag_sent)"
   ]
  },
  {
   "cell_type": "markdown",
   "metadata": {},
   "source": [
    "### spaCy"
   ]
  },
  {
   "cell_type": "code",
   "execution_count": 11,
   "metadata": {},
   "outputs": [],
   "source": [
    "nlp = spacy.load('en', disable=['parser', 'tagger'])"
   ]
  },
  {
   "cell_type": "code",
   "execution_count": 12,
   "metadata": {},
   "outputs": [
    {
     "name": "stdout",
     "output_type": "stream",
     "text": [
      "﻿The ﻿The    ﻿Xxx False False\n",
      "performance performance    xxxx True False\n",
      "of of    xx True True\n",
      "these this    xxxx True True\n",
      "simple simple    xxxx True False\n",
      "machine machine    xxxx True False\n",
      "learning learn    xxxx True False\n",
      "algorithms algorithm    xxxx True False\n",
      "depends depend    xxxx True False\n",
      "heavily heavily    xxxx True False\n",
      "on on    xx True True\n",
      "the the    xxx True True\n",
      "representation representation    xxxx True False\n",
      "of of    xx True True\n",
      "the the    xxx True True\n",
      "data datum    xxxx True False\n",
      "they they    xxxx True True\n",
      "are be    xxx True True\n",
      "given give    xxxx True False\n",
      ". .    . False False\n",
      "For For    Xxx True False\n",
      "example example    xxxx True False\n",
      ", ,    , False False\n",
      "when when    xxxx True True\n",
      "logistic logistic    xxxx True False\n",
      "regression regression    xxxx True False\n",
      "is be    xx True True\n",
      "used use    xxxx True True\n",
      "to to    xx True True\n",
      "recommend recommend    xxxx True False\n",
      "cesarean cesarean    xxxx True False\n",
      "delivery delivery    xxxx True False\n",
      ", ,    , False False\n",
      "the the    xxx True True\n",
      "AI AI    XX True False\n",
      "system system    xxxx True False\n",
      "does doe    xxxx True True\n",
      "not not    xxx True True\n",
      "examinethe examinethe    xxxx True False\n",
      "patient patient    xxxx True False\n",
      "directly directly    xxxx True False\n",
      ". .    . False False\n",
      "Instead Instead    Xxxxx True False\n",
      ", ,    , False False\n",
      "the the    xxx True True\n",
      "doctor doctor    xxxx True False\n",
      "tells tell    xxxx True False\n",
      "the the    xxx True True\n",
      "system system    xxxx True False\n",
      "several several    xxxx True True\n",
      "pieces piece    xxxx True False\n",
      "of of    xx True True\n",
      "relevant relevant    xxxx True False\n",
      "information information    xxxx True False\n",
      ", ,    , False False\n",
      "such such    xxxx True True\n",
      "as a    xx True True\n",
      "the the    xxx True True\n",
      "presence presence    xxxx True False\n",
      "or or    xx True True\n",
      "absence absence    xxxx True False\n",
      "of of    xx True True\n",
      "a a    x True True\n",
      "uterine uterine    xxxx True False\n",
      "scar scar    xxxx True False\n",
      ". .    . False False\n",
      "Each Each    Xxxx True False\n",
      "piece piece    xxxx True False\n",
      "of of    xx True True\n",
      "information information    xxxx True False\n",
      "included include    xxxx True False\n",
      "in in    xx True True\n",
      "the the    xxx True True\n",
      "representation representation    xxxx True False\n",
      "of of    xx True True\n",
      "the the    xxx True True\n",
      "patient patient    xxxx True False\n",
      "is be    xx True True\n",
      "known know    xxxx True False\n",
      "as a    xx True True\n",
      "afeature afeature    xxxx True False\n",
      ". .    . False False\n",
      "Logistic Logistic    Xxxxx True False\n",
      "regression regression    xxxx True False\n",
      "learns learn    xxxx True False\n",
      "how how    xxx True True\n",
      "each each    xxxx True True\n",
      "of of    xx True True\n",
      "these this    xxxx True True\n",
      "features feature    xxxx True False\n",
      "of of    xx True True\n",
      "the the    xxx True True\n",
      "patient patient    xxxx True False\n",
      "correlates correlate    xxxx True False\n",
      "with with    xxxx True True\n",
      "various various    xxxx True True\n",
      "outcomes outcome    xxxx True False\n",
      ". .    . False False\n",
      "However However    Xxxxx True False\n",
      ", ,    , False False\n",
      "it it    xx True True\n",
      "can can VERB MD  xxx True True\n",
      "not not ADV RB  xxx True True\n",
      "inﬂuence inﬂuence    xxxx True False\n",
      "how how    xxx True True\n",
      "features feature    xxxx True False\n",
      "are be    xxx True True\n",
      "deﬁned deﬁned    xxxx True False\n",
      "in in    xx True True\n",
      "anyway anyway    xxxx True True\n",
      ". .    . False False\n",
      "If If    Xx True False\n",
      "logistic logistic    xxxx True False\n",
      "regression regression    xxxx True False\n",
      "were be    xxxx True True\n",
      "given give    xxxx True False\n",
      "an a    xx True True\n",
      "MRI MRI    XXX True False\n",
      "scan scan    xxxx True False\n",
      "of of    xx True True\n",
      "the the    xxx True True\n",
      "patient patient    xxxx True False\n",
      ", ,    , False False\n",
      "rather rather    xxxx True True\n",
      "thanthe thanthe    xxxx True False\n",
      "doctor doctor    xxxx True False\n",
      "’s ’s    ’x False False\n",
      "formalized formalize    xxxx True False\n",
      "report report    xxxx True False\n",
      ", ,    , False False\n",
      "it it    xx True True\n",
      "would would    xxxx True True\n",
      "not not    xxx True True\n",
      "be be    xx True True\n",
      "able able    xxxx True False\n",
      "to to    xx True True\n",
      "make make    xxxx True True\n",
      "useful useful    xxxx True False\n",
      "predictions prediction    xxxx True False\n",
      ". .    . False False\n",
      "Individual Individual    Xxxxx True False\n",
      "pixels pixel    xxxx True False\n",
      "in in    xx True True\n",
      "an a    xx True True\n",
      "MRI MRI    XXX True False\n",
      "scan scan    xxxx True False\n",
      "have have    xxxx True True\n",
      "negligible negligible    xxxx True False\n",
      "correlation correlation    xxxx True False\n",
      "with with    xxxx True True\n",
      "any any    xxx True True\n",
      "complications complication    xxxx True False\n",
      "that that    xxxx True True\n",
      "might may    xxxx True True\n",
      "occur occur    xxxx True False\n",
      "during during    xxxx True True\n",
      "delivery delivery    xxxx True False\n",
      ". .    . False False\n",
      "This This    Xxxx True False\n",
      "dependence dependence    xxxx True False\n",
      "on on    xx True True\n",
      "representations representation    xxxx True False\n",
      "is be    xx True True\n",
      "a a    x True True\n",
      "general general    xxxx True False\n",
      "phenomenon phenomenon    xxxx True False\n",
      "that that    xxxx True True\n",
      "appears appear    xxxx True False\n",
      "throughout throughout    xxxx True True\n",
      "computer computer    xxxx True False\n",
      "science science    xxxx True False\n",
      "and and    xxx True True\n",
      "even even    xxxx True True\n",
      "daily daily    xxxx True False\n",
      "life life    xxxx True False\n",
      ". .    . False False\n",
      "In In    Xx True False\n",
      "computer computer    xxxx True False\n",
      "science science    xxxx True False\n",
      ", ,    , False False\n",
      "operations operation    xxxx True False\n",
      "such such    xxxx True True\n",
      "as a    xx True True\n",
      "searching search    xxxx True False\n",
      "a a    x True True\n",
      "collection collection    xxxx True False\n",
      "of of    xx True True\n",
      "data datum    xxxx True False\n",
      "can can    xxx True True\n",
      "proceed proceed    xxxx True False\n",
      "exponentially exponentially    xxxx True False\n",
      "faster fast    xxxx True False\n",
      "if if    xx True True\n",
      "the the    xxx True True\n",
      "collection collection    xxxx True False\n",
      "is be    xx True True\n",
      "structured structure    xxxx True False\n",
      "and and    xxx True True\n",
      "indexed index    xxxx True False\n",
      "intelligently intelligently    xxxx True False\n",
      ". .    . False False\n",
      "People People    Xxxxx True False\n",
      "can can    xxx True True\n",
      "easily easily    xxxx True False\n",
      "perform perform    xxxx True False\n",
      "arithmetic arithmetic    xxxx True False\n",
      "on on    xx True True\n",
      "Arabic Arabic    Xxxxx True False\n",
      "numerals numeral    xxxx True False\n",
      "but but    xxx True True\n",
      "ﬁnd ﬁnd    xxx True False\n",
      "arithmetic arithmetic    xxxx True False\n",
      "on on    xx True True\n",
      "Roman Roman    Xxxxx True False\n",
      "numerals numeral    xxxx True False\n",
      "much much    xxxx True True\n",
      "more much    xxxx True True\n",
      "time time    xxxx True False\n",
      "consuming consume    xxxx True False\n",
      ". .    . False False\n",
      "It It    Xx True False\n",
      "is be    xx True True\n",
      "not not    xxx True True\n",
      "surprising surprise    xxxx True False\n",
      "that that    xxxx True True\n",
      "the the    xxx True True\n",
      "choice choice    xxxx True False\n",
      "of of    xx True True\n",
      "representation representation    xxxx True False\n",
      "has have    xxx True True\n",
      "an a    xx True True\n",
      "enormous enormous    xxxx True False\n",
      "eﬀect eﬀect    xxxx True False\n",
      "on on    xx True True\n",
      "the the    xxx True True\n",
      "performance performance    xxxx True False\n",
      "of of    xx True True\n",
      "machine machine    xxxx True False\n",
      "learning learn    xxxx True False\n",
      "algorithms algorithm    xxxx True False\n",
      ". .    . False False\n",
      "For For    Xxx True False\n",
      "a a    x True True\n",
      "simple simple    xxxx True False\n",
      "visual visual    xxxx True False\n",
      "example example    xxxx True False\n",
      ", ,    , False False\n",
      "see see    xxx True True\n",
      "ﬁgure ﬁgure    xxxx True False\n",
      "1.1 1.1    d.d False False\n",
      ". .    . False False\n",
      "Many Many    Xxxx True False\n",
      "artiﬁcial artiﬁcial    xxxx True False\n",
      "intelligence intelligence    xxxx True False\n",
      "tasks task    xxxx True False\n",
      "can can    xxx True True\n",
      "be be    xx True True\n",
      "solved solve    xxxx True False\n",
      "by by    xx True True\n",
      "designing design    xxxx True False\n",
      "the the    xxx True True\n",
      "right right    xxxx True False\n",
      "set set    xxx True False\n",
      "offeatures offeatures    xxxx True False\n",
      "to to    xx True True\n",
      "extract extract    xxxx True False\n",
      "for for    xxx True True\n",
      "that that    xxxx True True\n",
      "task task    xxxx True False\n",
      ", ,    , False False\n",
      "then then    xxxx True True\n",
      "providing provide    xxxx True False\n",
      "these this    xxxx True True\n",
      "features feature    xxxx True False\n"
     ]
    },
    {
     "name": "stdout",
     "output_type": "stream",
     "text": [
      "to to    xx True True\n",
      "a a    x True True\n",
      "simple simple    xxxx True False\n",
      "machine machine    xxxx True False\n",
      "learning learn    xxxx True False\n",
      "algorithm algorithm    xxxx True False\n",
      ". .    . False False\n",
      "For For    Xxx True False\n",
      "example example    xxxx True False\n",
      ", ,    , False False\n",
      "a a    x True True\n",
      "useful useful    xxxx True False\n",
      "feature feature    xxxx True False\n",
      "for for    xxx True True\n",
      "speaker speaker    xxxx True False\n",
      "identiﬁcation identiﬁcation    xxxx True False\n",
      "from from    xxxx True True\n",
      "sound sound    xxxx True False\n",
      "is be    xx True True\n",
      "an a    xx True True\n",
      "estimate estimate    xxxx True False\n",
      "of of    xx True True\n",
      "the the    xxx True True\n",
      "size size    xxxx True False\n",
      "of of    xx True True\n",
      "the the    xxx True True\n",
      "speaker speaker    xxxx True False\n",
      "’s ’s    ’x False False\n",
      "vocal vocal    xxxx    x True True\n",
      "man man    xxx True False\n",
      ", ,    , False False\n",
      "woman woman    xxxx True False\n",
      ", ,    , False False\n",
      "or or    xx True True\n",
      "child child    xxxx True False\n",
      ". .    . False False\n"
     ]
    }
   ],
   "source": [
    "doc = nlp(text)\n",
    "\n",
    "for token in doc:\n",
    "    print(token.text, token.lemma_, token.pos_, token.tag_, token.dep_,\n",
    "          token.shape_, token.is_alpha, token.is_stop)"
   ]
  },
  {
   "cell_type": "markdown",
   "metadata": {},
   "source": [
    "### spaCy"
   ]
  },
  {
   "cell_type": "code",
   "execution_count": null,
   "metadata": {},
   "outputs": [],
   "source": []
  },
  {
   "cell_type": "code",
   "execution_count": 13,
   "metadata": {},
   "outputs": [
    {
     "name": "stdout",
     "output_type": "stream",
     "text": [
      "Apple apple PROPN NNP nsubj Xxxxx True False\n",
      "is be VERB VBZ aux xx True True\n",
      "looking look VERB VBG ROOT xxxx True False\n",
      "at at ADP IN prep xx True True\n",
      "buying buy VERB VBG pcomp xxxx True False\n",
      "U.K. u.k. PROPN NNP compound X.X. False False\n",
      "startup startup NOUN NN dobj xxxx True False\n",
      "for for ADP IN prep xxx True True\n",
      "$ $ SYM $ quantmod $ False False\n",
      "1 1 NUM CD compound d False False\n",
      "billion billion NUM CD pobj xxxx True False\n"
     ]
    }
   ],
   "source": [
    "nlp = spacy.load('en_core_web_sm')\n",
    "doc = nlp(u'Apple is looking at buying U.K. startup for $1 billion')\n",
    "\n",
    "for token in doc:\n",
    "    print(token.text, token.lemma_, token.pos_, token.tag_, token.dep_,\n",
    "          token.shape_, token.is_alpha, token.is_stop)"
   ]
  },
  {
   "cell_type": "code",
   "execution_count": 14,
   "metadata": {},
   "outputs": [
    {
     "name": "stdout",
     "output_type": "stream",
     "text": [
      "Apple 0 5 ORG\n",
      "Colombo 27 34 ORG\n",
      "$1 billion 53 63 MONEY\n"
     ]
    }
   ],
   "source": [
    "nlp = spacy.load('en_core_web_sm')\n",
    "doc = nlp(u'Apple is looking at buying Colombo based startup for $1 billion')\n",
    "\n",
    "for ent in doc.ents:\n",
    "    print(ent.text, ent.start_char, ent.end_char, ent.label_)"
   ]
  },
  {
   "cell_type": "code",
   "execution_count": 15,
   "metadata": {},
   "outputs": [
    {
     "data": {
      "text/html": [
       "<div class=\"entities\" style=\"line-height: 2.5\">I just bought \n",
       "<mark class=\"entity\" style=\"background: #e4e7d2; padding: 0.45em 0.6em; margin: 0 0.25em; line-height: 1; border-radius: 0.35em; box-decoration-break: clone; -webkit-box-decoration-break: clone\">\n",
       "    2\n",
       "    <span style=\"font-size: 0.8em; font-weight: bold; line-height: 1; border-radius: 0.35em; text-transform: uppercase; vertical-align: middle; margin-left: 0.5rem\">CARDINAL</span>\n",
       "</mark>\n",
       " shares of \n",
       "<mark class=\"entity\" style=\"background: #7aecec; padding: 0.45em 0.6em; margin: 0 0.25em; line-height: 1; border-radius: 0.35em; box-decoration-break: clone; -webkit-box-decoration-break: clone\">\n",
       "    Apple\n",
       "    <span style=\"font-size: 0.8em; font-weight: bold; line-height: 1; border-radius: 0.35em; text-transform: uppercase; vertical-align: middle; margin-left: 0.5rem\">ORG</span>\n",
       "</mark>\n",
       " at \n",
       "<mark class=\"entity\" style=\"background: #bfe1d9; padding: 0.45em 0.6em; margin: 0 0.25em; line-height: 1; border-radius: 0.35em; box-decoration-break: clone; -webkit-box-decoration-break: clone\">\n",
       "    9 a.m.\n",
       "    <span style=\"font-size: 0.8em; font-weight: bold; line-height: 1; border-radius: 0.35em; text-transform: uppercase; vertical-align: middle; margin-left: 0.5rem\">TIME</span>\n",
       "</mark>\n",
       " because the stock went up \n",
       "<mark class=\"entity\" style=\"background: #e4e7d2; padding: 0.45em 0.6em; margin: 0 0.25em; line-height: 1; border-radius: 0.35em; box-decoration-break: clone; -webkit-box-decoration-break: clone\">\n",
       "    30%\n",
       "    <span style=\"font-size: 0.8em; font-weight: bold; line-height: 1; border-radius: 0.35em; text-transform: uppercase; vertical-align: middle; margin-left: 0.5rem\">PERCENT</span>\n",
       "</mark>\n",
       " in \n",
       "<mark class=\"entity\" style=\"background: #bfe1d9; padding: 0.45em 0.6em; margin: 0 0.25em; line-height: 1; border-radius: 0.35em; box-decoration-break: clone; -webkit-box-decoration-break: clone\">\n",
       "    just 2 days\n",
       "    <span style=\"font-size: 0.8em; font-weight: bold; line-height: 1; border-radius: 0.35em; text-transform: uppercase; vertical-align: middle; margin-left: 0.5rem\">DATE</span>\n",
       "</mark>\n",
       " according to the \n",
       "<mark class=\"entity\" style=\"background: #7aecec; padding: 0.45em 0.6em; margin: 0 0.25em; line-height: 1; border-radius: 0.35em; box-decoration-break: clone; -webkit-box-decoration-break: clone\">\n",
       "    WSJ\n",
       "    <span style=\"font-size: 0.8em; font-weight: bold; line-height: 1; border-radius: 0.35em; text-transform: uppercase; vertical-align: middle; margin-left: 0.5rem\">ORG</span>\n",
       "</mark>\n",
       "</div>"
      ],
      "text/plain": [
       "<IPython.core.display.HTML object>"
      ]
     },
     "metadata": {},
     "output_type": "display_data"
    }
   ],
   "source": [
    "from spacy import displacy\n",
    " \n",
    "doc = nlp('I just bought 2 shares of Apple at 9 a.m. because the stock went up 30% in just 2 days according to the WSJ')\n",
    "displacy.render(doc, style='ent', jupyter=True)"
   ]
  },
  {
   "cell_type": "code",
   "execution_count": 16,
   "metadata": {},
   "outputs": [
    {
     "data": {
      "text/html": [
       "<div class=\"entities\" style=\"line-height: 2.5\">I am \n",
       "<mark class=\"entity\" style=\"background: #aa9cfc; padding: 0.45em 0.6em; margin: 0 0.25em; line-height: 1; border-radius: 0.35em; box-decoration-break: clone; -webkit-box-decoration-break: clone\">\n",
       "    Lahiru\n",
       "    <span style=\"font-size: 0.8em; font-weight: bold; line-height: 1; border-radius: 0.35em; text-transform: uppercase; vertical-align: middle; margin-left: 0.5rem\">PERSON</span>\n",
       "</mark>\n",
       " and I just bought \n",
       "<mark class=\"entity\" style=\"background: #bfe1d9; padding: 0.45em 0.6em; margin: 0 0.25em; line-height: 1; border-radius: 0.35em; box-decoration-break: clone; -webkit-box-decoration-break: clone\">\n",
       "    2 Apples\n",
       "    <span style=\"font-size: 0.8em; font-weight: bold; line-height: 1; border-radius: 0.35em; text-transform: uppercase; vertical-align: middle; margin-left: 0.5rem\">TIME</span>\n",
       "</mark>\n",
       " at \n",
       "<mark class=\"entity\" style=\"background: #bfe1d9; padding: 0.45em 0.6em; margin: 0 0.25em; line-height: 1; border-radius: 0.35em; box-decoration-break: clone; -webkit-box-decoration-break: clone\">\n",
       "    9 a.m.\n",
       "    <span style=\"font-size: 0.8em; font-weight: bold; line-height: 1; border-radius: 0.35em; text-transform: uppercase; vertical-align: middle; margin-left: 0.5rem\">TIME</span>\n",
       "</mark>\n",
       " from \n",
       "<mark class=\"entity\" style=\"background: #7aecec; padding: 0.45em 0.6em; margin: 0 0.25em; line-height: 1; border-radius: 0.35em; box-decoration-break: clone; -webkit-box-decoration-break: clone\">\n",
       "    the Apple Inc.\n",
       "    <span style=\"font-size: 0.8em; font-weight: bold; line-height: 1; border-radius: 0.35em; text-transform: uppercase; vertical-align: middle; margin-left: 0.5rem\">ORG</span>\n",
       "</mark>\n",
       " before the current stock went up by \n",
       "<mark class=\"entity\" style=\"background: #e4e7d2; padding: 0.45em 0.6em; margin: 0 0.25em; line-height: 1; border-radius: 0.35em; box-decoration-break: clone; -webkit-box-decoration-break: clone\">\n",
       "    1 billion $\n",
       "    <span style=\"font-size: 0.8em; font-weight: bold; line-height: 1; border-radius: 0.35em; text-transform: uppercase; vertical-align: middle; margin-left: 0.5rem\">MONEY</span>\n",
       "</mark>\n",
       "</div>"
      ],
      "text/plain": [
       "<IPython.core.display.HTML object>"
      ]
     },
     "metadata": {},
     "output_type": "display_data"
    }
   ],
   "source": [
    "doc = nlp('I am Lahiru and I just bought 2 Apples at 9 a.m. from the Apple Inc. before the current stock went up by 1 billion $')\n",
    "displacy.render(doc, style='ent', jupyter=True)"
   ]
  },
  {
   "cell_type": "code",
   "execution_count": 17,
   "metadata": {},
   "outputs": [
    {
     "name": "stdout",
     "output_type": "stream",
     "text": [
      "These are apples.\n",
      "These are oranges.\n"
     ]
    }
   ],
   "source": [
    "doc = nlp(\"These are apples. These are oranges.\")\n",
    "for sent in doc.sents:\n",
    "    print(sent)"
   ]
  },
  {
   "cell_type": "code",
   "execution_count": 18,
   "metadata": {},
   "outputs": [
    {
     "data": {
      "text/html": [
       "<svg xmlns=\"http://www.w3.org/2000/svg\" xmlns:xlink=\"http://www.w3.org/1999/xlink\" id=\"0\" class=\"displacy\" width=\"850\" height=\"217.0\" style=\"max-width: none; height: 217.0px; color: #000000; background: #ffffff; font-family: Arial\">\n",
       "<text class=\"displacy-token\" fill=\"currentColor\" text-anchor=\"middle\" y=\"127.0\">\n",
       "    <tspan class=\"displacy-word\" fill=\"currentColor\" x=\"50\">Wall</tspan>\n",
       "    <tspan class=\"displacy-tag\" dy=\"2em\" fill=\"currentColor\" x=\"50\">PROPN</tspan>\n",
       "</text>\n",
       "\n",
       "<text class=\"displacy-token\" fill=\"currentColor\" text-anchor=\"middle\" y=\"127.0\">\n",
       "    <tspan class=\"displacy-word\" fill=\"currentColor\" x=\"130\">Street</tspan>\n",
       "    <tspan class=\"displacy-tag\" dy=\"2em\" fill=\"currentColor\" x=\"130\">PROPN</tspan>\n",
       "</text>\n",
       "\n",
       "<text class=\"displacy-token\" fill=\"currentColor\" text-anchor=\"middle\" y=\"127.0\">\n",
       "    <tspan class=\"displacy-word\" fill=\"currentColor\" x=\"210\">Journal</tspan>\n",
       "    <tspan class=\"displacy-tag\" dy=\"2em\" fill=\"currentColor\" x=\"210\">PROPN</tspan>\n",
       "</text>\n",
       "\n",
       "<text class=\"displacy-token\" fill=\"currentColor\" text-anchor=\"middle\" y=\"127.0\">\n",
       "    <tspan class=\"displacy-word\" fill=\"currentColor\" x=\"290\">just</tspan>\n",
       "    <tspan class=\"displacy-tag\" dy=\"2em\" fill=\"currentColor\" x=\"290\">ADV</tspan>\n",
       "</text>\n",
       "\n",
       "<text class=\"displacy-token\" fill=\"currentColor\" text-anchor=\"middle\" y=\"127.0\">\n",
       "    <tspan class=\"displacy-word\" fill=\"currentColor\" x=\"370\">published</tspan>\n",
       "    <tspan class=\"displacy-tag\" dy=\"2em\" fill=\"currentColor\" x=\"370\">VERB</tspan>\n",
       "</text>\n",
       "\n",
       "<text class=\"displacy-token\" fill=\"currentColor\" text-anchor=\"middle\" y=\"127.0\">\n",
       "    <tspan class=\"displacy-word\" fill=\"currentColor\" x=\"450\">a</tspan>\n",
       "    <tspan class=\"displacy-tag\" dy=\"2em\" fill=\"currentColor\" x=\"450\">DET</tspan>\n",
       "</text>\n",
       "\n",
       "<text class=\"displacy-token\" fill=\"currentColor\" text-anchor=\"middle\" y=\"127.0\">\n",
       "    <tspan class=\"displacy-word\" fill=\"currentColor\" x=\"530\">piece</tspan>\n",
       "    <tspan class=\"displacy-tag\" dy=\"2em\" fill=\"currentColor\" x=\"530\">NOUN</tspan>\n",
       "</text>\n",
       "\n",
       "<text class=\"displacy-token\" fill=\"currentColor\" text-anchor=\"middle\" y=\"127.0\">\n",
       "    <tspan class=\"displacy-word\" fill=\"currentColor\" x=\"610\">on</tspan>\n",
       "    <tspan class=\"displacy-tag\" dy=\"2em\" fill=\"currentColor\" x=\"610\">ADP</tspan>\n",
       "</text>\n",
       "\n",
       "<text class=\"displacy-token\" fill=\"currentColor\" text-anchor=\"middle\" y=\"127.0\">\n",
       "    <tspan class=\"displacy-word\" fill=\"currentColor\" x=\"690\">crypto</tspan>\n",
       "    <tspan class=\"displacy-tag\" dy=\"2em\" fill=\"currentColor\" x=\"690\">ADJ</tspan>\n",
       "</text>\n",
       "\n",
       "<text class=\"displacy-token\" fill=\"currentColor\" text-anchor=\"middle\" y=\"127.0\">\n",
       "    <tspan class=\"displacy-word\" fill=\"currentColor\" x=\"770\">currencies</tspan>\n",
       "    <tspan class=\"displacy-tag\" dy=\"2em\" fill=\"currentColor\" x=\"770\">NOUN</tspan>\n",
       "</text>\n",
       "\n",
       "<g class=\"displacy-arrow\">\n",
       "    <path class=\"displacy-arc\" id=\"arrow-0-0\" stroke-width=\"2px\" d=\"M70,82.0 C70,42.0 125.0,42.0 125.0,82.0\" fill=\"none\" stroke=\"currentColor\"/>\n",
       "    <text dy=\"1.25em\" style=\"font-size: 0.8em; letter-spacing: 1px\">\n",
       "        <textPath xlink:href=\"#arrow-0-0\" class=\"displacy-label\" startOffset=\"50%\" fill=\"currentColor\" text-anchor=\"middle\">compound</textPath>\n",
       "    </text>\n",
       "    <path class=\"displacy-arrowhead\" d=\"M70,84.0 L62,72.0 78,72.0\" fill=\"currentColor\"/>\n",
       "</g>\n",
       "\n",
       "<g class=\"displacy-arrow\">\n",
       "    <path class=\"displacy-arc\" id=\"arrow-0-1\" stroke-width=\"2px\" d=\"M150,82.0 C150,42.0 205.0,42.0 205.0,82.0\" fill=\"none\" stroke=\"currentColor\"/>\n",
       "    <text dy=\"1.25em\" style=\"font-size: 0.8em; letter-spacing: 1px\">\n",
       "        <textPath xlink:href=\"#arrow-0-1\" class=\"displacy-label\" startOffset=\"50%\" fill=\"currentColor\" text-anchor=\"middle\">compound</textPath>\n",
       "    </text>\n",
       "    <path class=\"displacy-arrowhead\" d=\"M150,84.0 L142,72.0 158,72.0\" fill=\"currentColor\"/>\n",
       "</g>\n",
       "\n",
       "<g class=\"displacy-arrow\">\n",
       "    <path class=\"displacy-arc\" id=\"arrow-0-2\" stroke-width=\"2px\" d=\"M230,82.0 C230,2.0 370.0,2.0 370.0,82.0\" fill=\"none\" stroke=\"currentColor\"/>\n",
       "    <text dy=\"1.25em\" style=\"font-size: 0.8em; letter-spacing: 1px\">\n",
       "        <textPath xlink:href=\"#arrow-0-2\" class=\"displacy-label\" startOffset=\"50%\" fill=\"currentColor\" text-anchor=\"middle\">nsubj</textPath>\n",
       "    </text>\n",
       "    <path class=\"displacy-arrowhead\" d=\"M230,84.0 L222,72.0 238,72.0\" fill=\"currentColor\"/>\n",
       "</g>\n",
       "\n",
       "<g class=\"displacy-arrow\">\n",
       "    <path class=\"displacy-arc\" id=\"arrow-0-3\" stroke-width=\"2px\" d=\"M310,82.0 C310,42.0 365.0,42.0 365.0,82.0\" fill=\"none\" stroke=\"currentColor\"/>\n",
       "    <text dy=\"1.25em\" style=\"font-size: 0.8em; letter-spacing: 1px\">\n",
       "        <textPath xlink:href=\"#arrow-0-3\" class=\"displacy-label\" startOffset=\"50%\" fill=\"currentColor\" text-anchor=\"middle\">advmod</textPath>\n",
       "    </text>\n",
       "    <path class=\"displacy-arrowhead\" d=\"M310,84.0 L302,72.0 318,72.0\" fill=\"currentColor\"/>\n",
       "</g>\n",
       "\n",
       "<g class=\"displacy-arrow\">\n",
       "    <path class=\"displacy-arc\" id=\"arrow-0-4\" stroke-width=\"2px\" d=\"M470,82.0 C470,42.0 525.0,42.0 525.0,82.0\" fill=\"none\" stroke=\"currentColor\"/>\n",
       "    <text dy=\"1.25em\" style=\"font-size: 0.8em; letter-spacing: 1px\">\n",
       "        <textPath xlink:href=\"#arrow-0-4\" class=\"displacy-label\" startOffset=\"50%\" fill=\"currentColor\" text-anchor=\"middle\">det</textPath>\n",
       "    </text>\n",
       "    <path class=\"displacy-arrowhead\" d=\"M470,84.0 L462,72.0 478,72.0\" fill=\"currentColor\"/>\n",
       "</g>\n",
       "\n",
       "<g class=\"displacy-arrow\">\n",
       "    <path class=\"displacy-arc\" id=\"arrow-0-5\" stroke-width=\"2px\" d=\"M390,82.0 C390,2.0 530.0,2.0 530.0,82.0\" fill=\"none\" stroke=\"currentColor\"/>\n",
       "    <text dy=\"1.25em\" style=\"font-size: 0.8em; letter-spacing: 1px\">\n",
       "        <textPath xlink:href=\"#arrow-0-5\" class=\"displacy-label\" startOffset=\"50%\" fill=\"currentColor\" text-anchor=\"middle\">dobj</textPath>\n",
       "    </text>\n",
       "    <path class=\"displacy-arrowhead\" d=\"M530.0,84.0 L538.0,72.0 522.0,72.0\" fill=\"currentColor\"/>\n",
       "</g>\n",
       "\n",
       "<g class=\"displacy-arrow\">\n",
       "    <path class=\"displacy-arc\" id=\"arrow-0-6\" stroke-width=\"2px\" d=\"M550,82.0 C550,42.0 605.0,42.0 605.0,82.0\" fill=\"none\" stroke=\"currentColor\"/>\n",
       "    <text dy=\"1.25em\" style=\"font-size: 0.8em; letter-spacing: 1px\">\n",
       "        <textPath xlink:href=\"#arrow-0-6\" class=\"displacy-label\" startOffset=\"50%\" fill=\"currentColor\" text-anchor=\"middle\">prep</textPath>\n",
       "    </text>\n",
       "    <path class=\"displacy-arrowhead\" d=\"M605.0,84.0 L613.0,72.0 597.0,72.0\" fill=\"currentColor\"/>\n",
       "</g>\n",
       "\n",
       "<g class=\"displacy-arrow\">\n",
       "    <path class=\"displacy-arc\" id=\"arrow-0-7\" stroke-width=\"2px\" d=\"M710,82.0 C710,42.0 765.0,42.0 765.0,82.0\" fill=\"none\" stroke=\"currentColor\"/>\n",
       "    <text dy=\"1.25em\" style=\"font-size: 0.8em; letter-spacing: 1px\">\n",
       "        <textPath xlink:href=\"#arrow-0-7\" class=\"displacy-label\" startOffset=\"50%\" fill=\"currentColor\" text-anchor=\"middle\">amod</textPath>\n",
       "    </text>\n",
       "    <path class=\"displacy-arrowhead\" d=\"M710,84.0 L702,72.0 718,72.0\" fill=\"currentColor\"/>\n",
       "</g>\n",
       "\n",
       "<g class=\"displacy-arrow\">\n",
       "    <path class=\"displacy-arc\" id=\"arrow-0-8\" stroke-width=\"2px\" d=\"M630,82.0 C630,2.0 770.0,2.0 770.0,82.0\" fill=\"none\" stroke=\"currentColor\"/>\n",
       "    <text dy=\"1.25em\" style=\"font-size: 0.8em; letter-spacing: 1px\">\n",
       "        <textPath xlink:href=\"#arrow-0-8\" class=\"displacy-label\" startOffset=\"50%\" fill=\"currentColor\" text-anchor=\"middle\">pobj</textPath>\n",
       "    </text>\n",
       "    <path class=\"displacy-arrowhead\" d=\"M770.0,84.0 L778.0,72.0 762.0,72.0\" fill=\"currentColor\"/>\n",
       "</g>\n",
       "</svg>"
      ],
      "text/plain": [
       "<IPython.core.display.HTML object>"
      ]
     },
     "metadata": {},
     "output_type": "display_data"
    }
   ],
   "source": [
    "from spacy import displacy\n",
    " \n",
    "doc = nlp('Wall Street Journal just published a piece on crypto currencies')\n",
    "displacy.render(doc, style='dep', jupyter=True, options={'distance': 80})"
   ]
  },
  {
   "cell_type": "code",
   "execution_count": 19,
   "metadata": {},
   "outputs": [
    {
     "name": "stdout",
     "output_type": "stream",
     "text": [
      "Wall Street Journal NP Journal\n",
      "an interesting piece NP piece\n",
      "crypto currencies NP currencies\n"
     ]
    }
   ],
   "source": [
    "doc = nlp(\"Wall Street Journal just published an interesting piece on crypto currencies\")\n",
    "for chunk in doc.noun_chunks:\n",
    "    print(chunk.text, chunk.label_, chunk.root.text)"
   ]
  },
  {
   "cell_type": "code",
   "execution_count": 20,
   "metadata": {},
   "outputs": [
    {
     "name": "stdout",
     "output_type": "stream",
     "text": [
      "3197928453018144401\n",
      "coffee\n"
     ]
    }
   ],
   "source": [
    "nlp = spacy.load('en_core_web_sm')\n",
    "doc = nlp(u'I love coffee')\n",
    "print(doc.vocab.strings[u'coffee'])  # 3197928453018144401\n",
    "print(doc.vocab.strings[3197928453018144401])"
   ]
  },
  {
   "cell_type": "code",
   "execution_count": 21,
   "metadata": {},
   "outputs": [
    {
     "name": "stdout",
     "output_type": "stream",
     "text": [
      "I 4690420944186131903 X I I True False True en\n",
      "love 3702023516439754181 xxxx l ove True False False en\n",
      "coffee 3197928453018144401 xxxx c fee True False False en\n"
     ]
    }
   ],
   "source": [
    "nlp = spacy.load('en_core_web_sm')\n",
    "doc = nlp('I love coffee')\n",
    "for word in doc:\n",
    "    lexeme = doc.vocab[word.text]\n",
    "    print(lexeme.text, lexeme.orth, lexeme.shape_, lexeme.prefix_, lexeme.suffix_,\n",
    "          lexeme.is_alpha, lexeme.is_digit, lexeme.is_title, lexeme.lang_)"
   ]
  },
  {
   "cell_type": "code",
   "execution_count": 22,
   "metadata": {},
   "outputs": [
    {
     "name": "stdout",
     "output_type": "stream",
     "text": [
      "0.7927212922616225\n",
      "0.7982259384182496\n",
      "0.8015801058229597\n"
     ]
    }
   ],
   "source": [
    "target = nlp(\"Cats are beautiful animals.\")\n",
    " \n",
    "doc1 = nlp(\"Dogs are awesome.\")\n",
    "doc2 = nlp(\"Some gorgeous creatures are felines.\")\n",
    "doc3 = nlp(\"Dolphins are swimming mammals.\")\n",
    " \n",
    "print(target.similarity(doc1))  # 0.8901765218466683\n",
    "print(target.similarity(doc2))  # 0.9115828449161616\n",
    "print(target.similarity(doc3))  # 0.782295675287610"
   ]
  },
  {
   "cell_type": "code",
   "execution_count": 23,
   "metadata": {},
   "outputs": [
    {
     "name": "stdout",
     "output_type": "stream",
     "text": [
      "Autonomous cars cars nsubj shift\n",
      "insurance liability liability dobj shift\n",
      "manufacturers manufacturers pobj toward\n"
     ]
    }
   ],
   "source": [
    "nlp = spacy.load('en_core_web_sm')\n",
    "doc = nlp(u\"Autonomous cars shift insurance liability toward manufacturers\")\n",
    "for chunk in doc.noun_chunks:\n",
    "    print(chunk.text, chunk.root.text, chunk.root.dep_,\n",
    "          chunk.root.head.text)"
   ]
  },
  {
   "cell_type": "code",
   "execution_count": null,
   "metadata": {},
   "outputs": [],
   "source": []
  }
 ],
 "metadata": {
  "kernelspec": {
   "display_name": "Python 3",
   "language": "python",
   "name": "python3"
  },
  "language_info": {
   "codemirror_mode": {
    "name": "ipython",
    "version": 3
   },
   "file_extension": ".py",
   "mimetype": "text/x-python",
   "name": "python",
   "nbconvert_exporter": "python",
   "pygments_lexer": "ipython3",
   "version": "3.6.7"
  }
 },
 "nbformat": 4,
 "nbformat_minor": 2
}

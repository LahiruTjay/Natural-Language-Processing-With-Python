{
 "cells": [
  {
   "cell_type": "markdown",
   "metadata": {},
   "source": [
    "# Introduction To Natural Language Processing with NLTK"
   ]
  },
  {
   "cell_type": "markdown",
   "metadata": {},
   "source": [
    "## 1. Tokenization"
   ]
  },
  {
   "cell_type": "code",
   "execution_count": 1,
   "metadata": {},
   "outputs": [],
   "source": [
    "from nltk import sent_tokenize, word_tokenize"
   ]
  },
  {
   "cell_type": "markdown",
   "metadata": {},
   "source": [
    "### 1.1 Sentence Tokenization"
   ]
  },
  {
   "cell_type": "code",
   "execution_count": 2,
   "metadata": {},
   "outputs": [
    {
     "name": "stdout",
     "output_type": "stream",
     "text": [
      "Simply, Natural Language Processing (NLP) helps computers (machines) to \"read and understand\" text or speech, by simulating the human's ability to understand languages. NLP is a sub-field of Artificial Intelligence, which also comprises of computation linguistics, computer science and statistics. Even though NLP is not comparatively as popular as Machine Learning, Deep Learning etc. it is as important and useful as them.\n"
     ]
    }
   ],
   "source": [
    "text = \"\"\"Simply, Natural Language Processing (NLP) helps computers (machines) to \"read and understand\" text or speech, by simulating the human's ability to understand languages. NLP is a sub-field of Artificial Intelligence, which also comprises of computation linguistics, computer science and statistics. Even though NLP is not comparatively as popular as Machine Learning, Deep Learning etc. it is as important and useful as them.\"\"\"\n",
    "print(text)"
   ]
  },
  {
   "cell_type": "code",
   "execution_count": 3,
   "metadata": {},
   "outputs": [
    {
     "name": "stdout",
     "output_type": "stream",
     "text": [
      "['Simply, Natural Language Processing (NLP) helps computers (machines) to \"read and understand\" text or speech, by simulating the human\\'s ability to understand languages.', 'NLP is a sub-field of Artificial Intelligence, which also comprises of computation linguistics, computer science and statistics.', 'Even though NLP is not comparatively as popular as Machine Learning, Deep Learning etc.', 'it is as important and useful as them.']\n"
     ]
    }
   ],
   "source": [
    "sentence_tokens = sent_tokenize(text)\n",
    "print(sentence_tokens)"
   ]
  },
  {
   "cell_type": "code",
   "execution_count": 4,
   "metadata": {},
   "outputs": [
    {
     "name": "stdout",
     "output_type": "stream",
     "text": [
      "Simply, Natural Language Processing (NLP) helps computers (machines) to \"read and understand\" text or speech, by simulating the human's ability to understand languages.\n",
      "NLP is a sub-field of Artificial Intelligence, which also comprises of computation linguistics, computer science and statistics.\n",
      "Even though NLP is not comparatively as popular as Machine Learning, Deep Learning etc.\n",
      "it is as important and useful as them.\n"
     ]
    }
   ],
   "source": [
    "for sentence in sentence_tokens:\n",
    "    print(sentence)"
   ]
  },
  {
   "cell_type": "markdown",
   "metadata": {},
   "source": [
    "### 1.2 Word Tokenization"
   ]
  },
  {
   "cell_type": "code",
   "execution_count": 5,
   "metadata": {},
   "outputs": [
    {
     "name": "stdout",
     "output_type": "stream",
     "text": [
      "NLP is a sub-field of Artificial Intelligence, which also comprises of computation linguistics, computer science and statistics.\n"
     ]
    }
   ],
   "source": [
    "sentence = \"\"\"NLP is a sub-field of Artificial Intelligence, which also comprises of computation linguistics, computer science and statistics.\"\"\"\n",
    "print(sentence)"
   ]
  },
  {
   "cell_type": "code",
   "execution_count": 6,
   "metadata": {},
   "outputs": [
    {
     "name": "stdout",
     "output_type": "stream",
     "text": [
      "['NLP', 'is', 'a', 'sub-field', 'of', 'Artificial', 'Intelligence', ',', 'which', 'also', 'comprises', 'of', 'computation', 'linguistics', ',', 'computer', 'science', 'and', 'statistics', '.']\n"
     ]
    }
   ],
   "source": [
    "word_tokens = word_tokenize(sentence)\n",
    "print(word_tokens)"
   ]
  },
  {
   "cell_type": "markdown",
   "metadata": {},
   "source": [
    "## 2. Stemming and Lemmatization"
   ]
  },
  {
   "cell_type": "markdown",
   "metadata": {},
   "source": [
    "### 2.1 Stemming"
   ]
  },
  {
   "cell_type": "code",
   "execution_count": 7,
   "metadata": {},
   "outputs": [],
   "source": [
    "from nltk.stem import PorterStemmer, SnowballStemmer, LancasterStemmer"
   ]
  },
  {
   "cell_type": "code",
   "execution_count": 15,
   "metadata": {},
   "outputs": [
    {
     "name": "stdout",
     "output_type": "stream",
     "text": [
      "thought\n"
     ]
    }
   ],
   "source": [
    "print(PorterStemmer().stem('thought'))"
   ]
  },
  {
   "cell_type": "markdown",
   "metadata": {},
   "source": [
    "### 2.2 Lemmatization"
   ]
  },
  {
   "cell_type": "code",
   "execution_count": 9,
   "metadata": {},
   "outputs": [],
   "source": [
    "from nltk.stem import WordNetLemmatizer"
   ]
  },
  {
   "cell_type": "code",
   "execution_count": 16,
   "metadata": {},
   "outputs": [
    {
     "name": "stdout",
     "output_type": "stream",
     "text": [
      "think\n"
     ]
    }
   ],
   "source": [
    "lemmatizer = WordNetLemmatizer()\n",
    "print(lemmatizer.lemmatize('thought', pos=\"v\"))"
   ]
  },
  {
   "cell_type": "code",
   "execution_count": null,
   "metadata": {},
   "outputs": [],
   "source": []
  }
 ],
 "metadata": {
  "kernelspec": {
   "display_name": "Python 3",
   "language": "python",
   "name": "python3"
  },
  "language_info": {
   "codemirror_mode": {
    "name": "ipython",
    "version": 3
   },
   "file_extension": ".py",
   "mimetype": "text/x-python",
   "name": "python",
   "nbconvert_exporter": "python",
   "pygments_lexer": "ipython3",
   "version": "3.6.6"
  }
 },
 "nbformat": 4,
 "nbformat_minor": 2
}
